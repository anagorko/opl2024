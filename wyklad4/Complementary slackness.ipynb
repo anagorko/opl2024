{
 "cells": [
  {
   "cell_type": "markdown",
   "metadata": {
    "collapsed": false
   },
   "source": [
    "# Complementary slackness\n",
    "\n",
    "Rozważamy problem pierwotny i problem dualny.\n",
    "\n",
    "<table>\n",
    "    <tr>\n",
    "        <td>\n",
    "            <strong>Problem pierwotny.</strong>\n",
    "$$\n",
    "\\sum_{j=1}^n c_j x_j \\to \\max\n",
    "$$\n",
    "$$\n",
    "\\sum_{j=1}^n a_{ij} x_j \\leq b_i \\ \\ \\ \\ 1 \\leq i \\leq m\n",
    "$$\n",
    "$$\n",
    "x_j \\geq 0 \\ \\ \\ \\ 1 \\leq j \\leq n\n",
    "$$\n",
    "        </td>\n",
    "        <td>\n",
    "<strong>Problem dualny.</strong>\n",
    "$$\n",
    "\\sum_{i=1}^m b_i y_i \\to \\min\n",
    "$$\n",
    "$$\n",
    "\\sum_{i = 1}^m y_i a_{ij} \\geq c_j \\ \\ \\ \\ 1 \\leq j \\leq n\n",
    "$$\n",
    "$$\n",
    "y_i \\geq 0 \\ \\ \\ \\ 1 \\leq i \\leq m\n",
    "$$\n",
    "        </td>\n",
    "    </tr>\n",
    "</table>"
   ]
  },
  {
   "cell_type": "markdown",
   "metadata": {
    "collapsed": false
   },
   "source": [
    "Przypomnijmy dowód słabego twierdzenia o dualności."
   ]
  },
  {
   "cell_type": "markdown",
   "metadata": {
    "collapsed": false
   },
   "source": [
    "$$\n",
    "\\sum_{j=1}^n c_j x_j \\leq \\sum_{j=1}^n c_j x_j + \\sum_{i=1}^m y_i (b_i - \\sum_{j=1}^n a_{ij} x_j) =\n",
    "$$"
   ]
  },
  {
   "cell_type": "markdown",
   "metadata": {
    "collapsed": false
   },
   "source": [
    "$$\n",
    "= \\sum_{i=1}^m y_ib_i + \\sum_{j=1}^n x_j(c_j - \\sum_{i=1}^m y_i a_{ij}) \\leq\n",
    "$$"
   ]
  },
  {
   "cell_type": "markdown",
   "metadata": {
    "collapsed": false
   },
   "source": [
    "$$\n",
    "\\leq \\sum_{i=1}^m y_i b_i\n",
    "$$"
   ]
  },
  {
   "cell_type": "markdown",
   "metadata": {
    "collapsed": false
   },
   "source": [
    "Zmienne $x_j$ problemu pierwotnego odpowiadają zmiennym dodanym $z_j = c_j - \\sum_{i=1}^m y_i a_{ij}$ problemu dualnego ($j = 1, 2, \\ldots, n$). \n",
    "\n",
    "Zmienne dodane $w_i = b_i - \\sum_{j=1}^n a_{ij} x_j$ problemu pierwotnego odpowiadają zmiennym $y_i$ problemu dualnego ($i = 1, 2, \\ldots, m$)."
   ]
  },
  {
   "cell_type": "markdown",
   "metadata": {
    "collapsed": false
   },
   "source": [
    "Wynika stąd, że jeżeli $x_1, x_2, \\ldots, x_n, w_1, w_2, \\ldots, w_m$ to rozwiązanie optymalne problemu pierwotnego i $y_1, y_2, \\ldots, y_m, z_1, z_2, \\ldots, z_n$ to rozwiązanie optymalne problemu dualnego, to\n",
    "\n",
    "$$\n",
    "  y_i \\cdot w_i = 0 \\text{ dla każdego } i = 1, 2, \\ldots, m\n",
    "$$\n",
    "\n",
    "$$\n",
    "  x_j \\cdot z_j = 0 \\text{ dla każdego } i = 1, 2, \\ldots, n.\n",
    "$$"
   ]
  },
  {
   "cell_type": "markdown",
   "metadata": {
    "collapsed": false
   },
   "source": [
    "Zjawisko to nazywa się **complementary slackness**. Przypomina to o związku pomiędzy zmiennymi bazowymi rozwiązania problemu pierwotnego i niebazowymi problemu dualnego, który znamy z dowodu silnego twierdzenia o dualności oraz odpowiedniości zmiennych $x$ i $z$ oraz $w$ i $y$. Pozwala ono na wypisanie układu równań pozwalającego wyznaczyć rozwiązanie problemu pierwotnego, jeżeli mamy rozwiązanie problemu dualnego (lub na odwrót).\n"
   ]
  }
 ],
 "metadata": {
  "kernelspec": {
   "argv": [
    "sage-9.8",
    "--python",
    "-m",
    "sage.repl.ipython_kernel",
    "--matplotlib=inline",
    "-f",
    "{connection_file}"
   ],
   "display_name": "SageMath 9.8",
   "env": {
   },
   "language": "sagemath",
   "metadata": {
    "cocalc": {
     "description": "Open-source mathematical software system",
     "priority": 1,
     "url": "https://www.sagemath.org/"
    }
   },
   "name": "sage-9.8",
   "resource_dir": "/ext/jupyter/kernels/sage-9.8"
  }
 },
 "nbformat": 4,
 "nbformat_minor": 4
}