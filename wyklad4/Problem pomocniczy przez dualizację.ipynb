{
 "cells": [
  {
   "cell_type": "markdown",
   "metadata": {
    "collapsed": false
   },
   "source": [
    "# Problem pomocniczy - dualizacja\n",
    "\n",
    "Do wyznaczenia wierzchołka startowego możemy użyć dualizacji. Jak najlepiej wyjaśni przykład.\n",
    "\n",
    "\n",
    "**Zadanie.** Znajdź wierzchołek startowy rozwiązując zagadnienie dualne dla problemu liniowego.\n",
    "\n",
    "$$\n",
    "\\begin{array}{l}\n",
    "\\begin{array}{lcrcrcrcl}\n",
    " \\max \\mspace{-6mu}&\\mspace{-6mu}  \\mspace{-6mu}&\\mspace{-6mu} x_{1} \\mspace{-6mu}&\\mspace{-6mu} + \\mspace{-6mu}&\\mspace{-6mu} 2 x_{2} \\mspace{-6mu}&\\mspace{-6mu} + \\mspace{-6mu}&\\mspace{-6mu} x_{3} \\mspace{-6mu}&\\mspace{-6mu}  \\mspace{-6mu}&\\mspace{-6mu} \\\\\n",
    " \\mspace{-6mu}&\\mspace{-6mu}  \\mspace{-6mu}&\\mspace{-6mu} x_{1} \\mspace{-6mu}&\\mspace{-6mu} + \\mspace{-6mu}&\\mspace{-6mu} 3 x_{2} \\mspace{-6mu}&\\mspace{-6mu} + \\mspace{-6mu}&\\mspace{-6mu} x_{3} \\mspace{-6mu}&\\mspace{-6mu} \\leq \\mspace{-6mu}&\\mspace{-6mu} 4 \\\\\n",
    " \\mspace{-6mu}&\\mspace{-6mu}  \\mspace{-6mu}&\\mspace{-6mu}  \\mspace{-6mu}&\\mspace{-6mu}  \\mspace{-6mu}&\\mspace{-6mu} 2 x_{2} \\mspace{-6mu}&\\mspace{-6mu} - \\mspace{-6mu}&\\mspace{-6mu} x_{3} \\mspace{-6mu}&\\mspace{-6mu} \\leq \\mspace{-6mu}&\\mspace{-6mu} -2 \\\\\n",
    "\\end{array} \\\\\n",
    "x_{1}, x_{2}, x_{3} \\geq 0\n",
    "\\end{array}\n",
    "$$\n",
    "\n",
    "-----------------------------\n",
    "\n",
    "Po doprowadzeniu do postaci równościowej\n",
    "\n",
    "$$\n",
    "\\begin{array}{l}\n",
    "\\begin{array}{lcrcrcrcrcrcl}\n",
    " \\max \\mspace{-6mu}&\\mspace{-6mu}  \\mspace{-6mu}&\\mspace{-6mu} x_{1} \\mspace{-6mu}&\\mspace{-6mu} + \\mspace{-6mu}&\\mspace{-6mu} 2 x_{2} \\mspace{-6mu}&\\mspace{-6mu} + \\mspace{-6mu}&\\mspace{-6mu} x_{3} \\mspace{-6mu}&\\mspace{-6mu}  \\mspace{-6mu}&\\mspace{-6mu}  \\mspace{-6mu}&\\mspace{-6mu}  \\mspace{-6mu}&\\mspace{-6mu}  \\mspace{-6mu}&\\mspace{-6mu}  \\mspace{-6mu}&\\mspace{-6mu} \\\\\n",
    " \\mspace{-6mu}&\\mspace{-6mu}  \\mspace{-6mu}&\\mspace{-6mu} x_{1} \\mspace{-6mu}&\\mspace{-6mu} + \\mspace{-6mu}&\\mspace{-6mu} 3 x_{2} \\mspace{-6mu}&\\mspace{-6mu} + \\mspace{-6mu}&\\mspace{-6mu} x_{3} \\mspace{-6mu}&\\mspace{-6mu} + \\mspace{-6mu}&\\mspace{-6mu} w_{1} \\mspace{-6mu}&\\mspace{-6mu}  \\mspace{-6mu}&\\mspace{-6mu}  \\mspace{-6mu}&\\mspace{-6mu} = \\mspace{-6mu}&\\mspace{-6mu} 4 \\\\\n",
    " \\mspace{-6mu}&\\mspace{-6mu}  \\mspace{-6mu}&\\mspace{-6mu}  \\mspace{-6mu}&\\mspace{-6mu}  \\mspace{-6mu}&\\mspace{-6mu} 2 x_{2} \\mspace{-6mu}&\\mspace{-6mu} - \\mspace{-6mu}&\\mspace{-6mu} x_{3} \\mspace{-6mu}&\\mspace{-6mu}  \\mspace{-6mu}&\\mspace{-6mu}  \\mspace{-6mu}&\\mspace{-6mu} + \\mspace{-6mu}&\\mspace{-6mu} w_{2} \\mspace{-6mu}&\\mspace{-6mu} = \\mspace{-6mu}&\\mspace{-6mu} -2 \\\\\n",
    "\\end{array} \\\\\n",
    "x_{1}, x_{2}, x_{3}, w_{1}, w_{2} \\geq 0\n",
    "\\end{array}\n",
    "$$\n",
    "\n",
    "widzimy, że naturalny zbiór bazowy $\\{ w_1, w_2 \\}$ nie jest zbiorem dopuszczalnym. Rozwiązanie bazowe dla tego zbioru to $(0, 0, 0, 4, -2)$.\n",
    "\n"
   ]
  },
  {
   "cell_type": "markdown",
   "metadata": {
    "collapsed": false
   },
   "source": [
    "Zauważmy jednak, że zbiór rozwiązań dopuszczalnych nie zależy od funkcji celu. Dlatego zamiast danego problemu możemy rozważyć problem\n",
    "\n",
    "$$ 0 \\to \\text{ max } $$\n",
    "\n",
    "$$\n",
    "\\begin{array}{rcl}\n",
    "x_1 + 3x_2 + x_3 & \\leq & 4 \\\\\n",
    "2x_2 - x_3 & \\leq & -2\n",
    "\\end{array}\n",
    "$$\n",
    "\n",
    "$$ x_1, x_2, x_3 \\geq 0 $$\n",
    "\n",
    "Zamieniliśmy funkcję celu na funkcję stałą równą zero. Problem ten ma te same wierzchołki.\n",
    "\n",
    "Jak wygląda problem do niego dualny? Wpisujemy współczynniki w macierz\n",
    "\n",
    "$$\n",
    "\\left(\\begin{array}{rrrr}\n",
    "1 & 3 & 1 & 4 \\\\\n",
    "0 & 2 & -1 & -2 \\\\\n",
    "0 & 0 & 0 & 0\n",
    "\\end{array}\\right)\n",
    "$$\n",
    "\n",
    "Jej transpozycja\n",
    "\n",
    "$$\n",
    "\\left(\\begin{array}{rrr}\n",
    "1 & 0 & 0 \\\\\n",
    "3 & 2 & 0 \\\\\n",
    "1 & -1 & 0 \\\\\n",
    "4 & -2 & 0\n",
    "\\end{array}\\right)\n",
    "$$\n",
    "\n",
    "daje nam problem dualny\n",
    "\n",
    "$$\n",
    "\\begin{array}{l}\n",
    "\\begin{array}{lcrcrcl}\n",
    " \\min \\mspace{-6mu}&\\mspace{-6mu}  \\mspace{-6mu}&\\mspace{-6mu} 4 y_{1} \\mspace{-6mu}&\\mspace{-6mu} - \\mspace{-6mu}&\\mspace{-6mu} 2 y_{2} \\mspace{-6mu}&\\mspace{-6mu}  \\mspace{-6mu}&\\mspace{-6mu} \\\\\n",
    " \\mspace{-6mu}&\\mspace{-6mu}  \\mspace{-6mu}&\\mspace{-6mu} y_{1} \\mspace{-6mu}&\\mspace{-6mu}  \\mspace{-6mu}&\\mspace{-6mu}  \\mspace{-6mu}&\\mspace{-6mu} \\geq \\mspace{-6mu}&\\mspace{-6mu} 0 \\\\\n",
    " \\mspace{-6mu}&\\mspace{-6mu}  \\mspace{-6mu}&\\mspace{-6mu} 3 y_{1} \\mspace{-6mu}&\\mspace{-6mu} + \\mspace{-6mu}&\\mspace{-6mu} 2 y_{2} \\mspace{-6mu}&\\mspace{-6mu} \\geq \\mspace{-6mu}&\\mspace{-6mu} 0 \\\\\n",
    " \\mspace{-6mu}&\\mspace{-6mu}  \\mspace{-6mu}&\\mspace{-6mu} y_{1} \\mspace{-6mu}&\\mspace{-6mu} - \\mspace{-6mu}&\\mspace{-6mu} y_{2} \\mspace{-6mu}&\\mspace{-6mu} \\geq \\mspace{-6mu}&\\mspace{-6mu} 0 \\\\\n",
    "\\end{array} \\\\\n",
    "y_{1}, y_{2} \\geq 0\n",
    "\\end{array}\n",
    "$$\n",
    "\n"
   ]
  },
  {
   "cell_type": "markdown",
   "metadata": {
    "collapsed": false
   },
   "source": [
    "Po doprowadzeniu do postaci równosciowej uzyskujemy problem\n",
    "\n",
    "$$\n",
    "\\begin{array}{l}\n",
    "\\begin{array}{lcrcrcrcrcrcl}\n",
    " \\min \\mspace{-6mu}&\\mspace{-6mu}  \\mspace{-6mu}&\\mspace{-6mu} 4 y_{1} \\mspace{-6mu}&\\mspace{-6mu} - \\mspace{-6mu}&\\mspace{-6mu} 2 y_{2} \\mspace{-6mu}&\\mspace{-6mu}  \\mspace{-6mu}&\\mspace{-6mu}  \\mspace{-6mu}&\\mspace{-6mu}  \\mspace{-6mu}&\\mspace{-6mu}  \\mspace{-6mu}&\\mspace{-6mu}  \\mspace{-6mu}&\\mspace{-6mu}  \\mspace{-6mu}&\\mspace{-6mu}  \\mspace{-6mu}&\\mspace{-6mu} \\\\\n",
    " \\mspace{-6mu}&\\mspace{-6mu}  \\mspace{-6mu}&\\mspace{-6mu} y_{1} \\mspace{-6mu}&\\mspace{-6mu}  \\mspace{-6mu}&\\mspace{-6mu}  \\mspace{-6mu}&\\mspace{-6mu} - \\mspace{-6mu}&\\mspace{-6mu} z_{1} \\mspace{-6mu}&\\mspace{-6mu}  \\mspace{-6mu}&\\mspace{-6mu}  \\mspace{-6mu}&\\mspace{-6mu}  \\mspace{-6mu}&\\mspace{-6mu}  \\mspace{-6mu}&\\mspace{-6mu} = \\mspace{-6mu}&\\mspace{-6mu} 0 \\\\\n",
    " \\mspace{-6mu}&\\mspace{-6mu}  \\mspace{-6mu}&\\mspace{-6mu} 3 y_{1} \\mspace{-6mu}&\\mspace{-6mu} + \\mspace{-6mu}&\\mspace{-6mu} 2 y_{2} \\mspace{-6mu}&\\mspace{-6mu}  \\mspace{-6mu}&\\mspace{-6mu}  \\mspace{-6mu}&\\mspace{-6mu} - \\mspace{-6mu}&\\mspace{-6mu} z_{2} \\mspace{-6mu}&\\mspace{-6mu}  \\mspace{-6mu}&\\mspace{-6mu}  \\mspace{-6mu}&\\mspace{-6mu} = \\mspace{-6mu}&\\mspace{-6mu} 0 \\\\\n",
    " \\mspace{-6mu}&\\mspace{-6mu}  \\mspace{-6mu}&\\mspace{-6mu} y_{1} \\mspace{-6mu}&\\mspace{-6mu} - \\mspace{-6mu}&\\mspace{-6mu} y_{2} \\mspace{-6mu}&\\mspace{-6mu}  \\mspace{-6mu}&\\mspace{-6mu}  \\mspace{-6mu}&\\mspace{-6mu}  \\mspace{-6mu}&\\mspace{-6mu}  \\mspace{-6mu}&\\mspace{-6mu} - \\mspace{-6mu}&\\mspace{-6mu} z_{3} \\mspace{-6mu}&\\mspace{-6mu} = \\mspace{-6mu}&\\mspace{-6mu} 0 \\\\\n",
    "\\end{array} \\\\\n",
    "y_{1}, y_{2}, z_{1}, z_{2}, z_{3} \\geq 0\n",
    "\\end{array}\n",
    "$$\n",
    "\n",
    "Dla którego zbiór bazowy $\\{ z_1, z_2, z_3 \\}$ utworzony ze zmiennych dodanych jest dopuszczalny. Mamy więc wierzchołek startowy i możemy rozwiązać ten problem."
   ]
  },
  {
   "cell_type": "code",
   "execution_count": 2,
   "metadata": {
    "collapsed": false,
    "scrolled": true
   },
   "outputs": [
    {
     "name": "stdout",
     "output_type": "stream",
     "text": [
      "\\begin{equation*}\n",
      "\\renewcommand{\\arraystretch}{1.5} %notruncate\n",
      "\\begin{array}{|rcrcrcr|}\n",
      "\\hline\n",
      "z_{1} \\mspace{-6mu}&\\mspace{-6mu} = \\mspace{-6mu}&\\mspace{-6mu} 0 \\mspace{-6mu}&\\mspace{-6mu} + \\mspace{-6mu}&\\mspace{-6mu} y_{1} \\mspace{-6mu}&\\mspace{-6mu}  \\mspace{-6mu}&\\color{green}\\mspace{-6mu} \\\\\n",
      "z_{2} \\mspace{-6mu}&\\mspace{-6mu} = \\mspace{-6mu}&\\mspace{-6mu} 0 \\mspace{-6mu}&\\mspace{-6mu} + \\mspace{-6mu}&\\mspace{-6mu} 3 y_{1} \\mspace{-6mu}&\\mspace{-6mu} + \\mspace{-6mu}&\\color{green}\\mspace{-6mu} 2 y_{2}\\\\\n",
      "\\color{red}z_{3} \\mspace{-6mu}&\\color{red}\\mspace{-6mu} = \\mspace{-6mu}&\\color{red}\\mspace{-6mu} 0 \\mspace{-6mu}&\\color{red}\\mspace{-6mu} + \\mspace{-6mu}&\\color{red}\\mspace{-6mu} y_{1} \\mspace{-6mu}&\\color{red}\\mspace{-6mu} - \\mspace{-6mu}&\\color{blue}\\mspace{-6mu} y_{2}\\\\\n",
      "\\hline\n",
      "-z \\mspace{-6mu}&\\mspace{-6mu} = \\mspace{-6mu}&\\mspace{-6mu} 0 \\mspace{-6mu}&\\mspace{-6mu} - \\mspace{-6mu}&\\mspace{-6mu} 4 y_{1} \\mspace{-6mu}&\\mspace{-6mu} + \\mspace{-6mu}&\\color{green}\\mspace{-6mu} 2 y_{2}\\\\\n",
      "\\hline\n",
      "\\end{array}\n",
      "\\end{equation*}\n",
      "Entering: $y_{2}$. Leaving: $z_{3}$. \n",
      "\\begin{equation*}\n",
      "\\renewcommand{\\arraystretch}{1.5} %notruncate\n",
      "\\begin{array}{|rcrcrcr|}\n",
      "\\hline\n",
      "z_{1} \\mspace{-6mu}&\\mspace{-6mu} = \\mspace{-6mu}&\\mspace{-6mu} 0 \\mspace{-6mu}&\\mspace{-6mu} + \\mspace{-6mu}&\\mspace{-6mu} y_{1} \\mspace{-6mu}&\\mspace{-6mu}  \\mspace{-6mu}&\\mspace{-6mu} \\\\\n",
      "z_{2} \\mspace{-6mu}&\\mspace{-6mu} = \\mspace{-6mu}&\\mspace{-6mu} 0 \\mspace{-6mu}&\\mspace{-6mu} + \\mspace{-6mu}&\\mspace{-6mu} 5 y_{1} \\mspace{-6mu}&\\mspace{-6mu} - \\mspace{-6mu}&\\mspace{-6mu} 2 z_{3}\\\\\n",
      "y_{2} \\mspace{-6mu}&\\mspace{-6mu} = \\mspace{-6mu}&\\mspace{-6mu} 0 \\mspace{-6mu}&\\mspace{-6mu} + \\mspace{-6mu}&\\mspace{-6mu} y_{1} \\mspace{-6mu}&\\mspace{-6mu} - \\mspace{-6mu}&\\mspace{-6mu} z_{3}\\\\\n",
      "\\hline\n",
      "-z \\mspace{-6mu}&\\mspace{-6mu} = \\mspace{-6mu}&\\mspace{-6mu} 0 \\mspace{-6mu}&\\mspace{-6mu} - \\mspace{-6mu}&\\mspace{-6mu} 2 y_{1} \\mspace{-6mu}&\\mspace{-6mu} - \\mspace{-6mu}&\\mspace{-6mu} 2 z_{3}\\\\\n",
      "\\hline\n",
      "\\end{array}\n",
      "\\end{equation*}\n",
      "The optimal value: $0$. An optimal solution: $\\left(0,\\,0\\right)$.\n"
     ]
    }
   ],
   "source": [
    "A = matrix([[1,0], [3,2], [1, -1]])\n",
    "b = vector([0,0,0])\n",
    "c = vector([4,-2])\n",
    "P = InteractiveLPProblem(A,b,c,['y1','y2'], constraint_type=\">=\", variable_type=\">=\", problem_type=\"min\")\n",
    "print(P.standard_form(slack_variables=['z1','z2','z3']).run_simplex_method())\n"
   ]
  },
  {
   "cell_type": "markdown",
   "metadata": {
    "collapsed": false
   },
   "source": [
    "Oczywiście rozwiązanie nie jest zbyt ekscytujące: optymalna wartość funkcji celu jest równa $0$, w końcu w problemie pierwotnym optymalizowaliśmy funkcję stałą. Ale interesujący jest dla nas zbiór bazowy, dla którego znaleźliśmy to rozwiązanie: jest to zbiór $\\{ z_1, z_2, y_2 \\}$. Jest to baza dualna, dopełniające zmienne niebazowe to $\\{ y_1, z_3 \\}$. Jeżeli przypomnimy sobie dowód twierzenia o dualności, to zobaczymy, że zmienne niebazowe optymalnego rozwiązania problemu dualnego odpowiadają zmiennym bazowym optymalnego rozwiązania problemu pierwotnego. Wobec tego problem pierwotny (**zmodyfikowany** - ten z funkcją celu równą zero!) ma rozwiązanie optymalne dla zbioru bazowego $\\{ w_1, x_3 \\}$ (dualizacja zamienia zmienne $w$ na zmienne $y$ i zmienne $x$ na zmienne $z$ - odpowiedniość pomiędzy zmiennymi to\n",
    "$\\{ x_1, x_2, x_3, w_1, w_2 \\} \\leftrightarrow \\{ z_1, z_2, z_3, y_1, y_2 \\}$).\n",
    "\n",
    "Jeżeli w problemie pierwotnym przywrócimy oryginalną funkcję celu $x_1 + 2x_2 + x_3$, to znaleziony wierzchołek przestanie być optymalny, ale wciąż będzie dopuszczalny - jest to dobry wierzchołek startowy dla metody sympleks.\n",
    "\n",
    "Sprawdźmy:"
   ]
  },
  {
   "cell_type": "code",
   "execution_count": 5,
   "metadata": {
    "collapsed": false
   },
   "outputs": [
    {
     "name": "stdout",
     "output_type": "stream",
     "text": [
      "\\renewcommand{\\arraystretch}{1.5} %notruncate\n",
      "\\begin{array}{|rcrcrcrcr|}\n",
      "\\hline\n",
      "w_{1} \\mspace{-6mu}&\\mspace{-6mu} = \\mspace{-6mu}&\\mspace{-6mu} 2 \\mspace{-6mu}&\\mspace{-6mu} - \\mspace{-6mu}&\\mspace{-6mu} x_{1} \\mspace{-6mu}&\\mspace{-6mu} - \\mspace{-6mu}&\\mspace{-6mu} 5 x_{2} \\mspace{-6mu}&\\mspace{-6mu} - \\mspace{-6mu}&\\mspace{-6mu} w_{2}\\\\\n",
      "x_{3} \\mspace{-6mu}&\\mspace{-6mu} = \\mspace{-6mu}&\\mspace{-6mu} 2 \\mspace{-6mu}&\\mspace{-6mu}  \\mspace{-6mu}&\\mspace{-6mu}  \\mspace{-6mu}&\\mspace{-6mu} + \\mspace{-6mu}&\\mspace{-6mu} 2 x_{2} \\mspace{-6mu}&\\mspace{-6mu} + \\mspace{-6mu}&\\mspace{-6mu} w_{2}\\\\\n",
      "\\hline\n",
      "z \\mspace{-6mu}&\\mspace{-6mu} = \\mspace{-6mu}&\\mspace{-6mu} 2 \\mspace{-6mu}&\\mspace{-6mu} + \\mspace{-6mu}&\\mspace{-6mu} x_{1} \\mspace{-6mu}&\\mspace{-6mu} + \\mspace{-6mu}&\\mspace{-6mu} 4 x_{2} \\mspace{-6mu}&\\mspace{-6mu} + \\mspace{-6mu}&\\mspace{-6mu} w_{2}\\\\\n",
      "\\hline\n",
      "\\end{array}\n"
     ]
    }
   ],
   "source": [
    "A = matrix([[1,3,1], [0,2,-1]])\n",
    "b = vector([4,-2])\n",
    "c = vector([1,2,1])\n",
    "P=InteractiveLPProblemStandardForm(A,b,c, slack_variables=['w1','w2'])\n",
    "D=P.dictionary('w1','x3')\n",
    "print(latex(D))"
   ]
  },
  {
   "cell_type": "markdown",
   "metadata": {
    "collapsed": false
   },
   "source": [
    "Rzeczywiście, jest to wierzchołek dopuszczalny, choć nie optymalny.\n",
    "\n",
    "Metoda ta działa zawsze. Proszę zauważyć, że w naszym przypadku nie musieliśmy nawet zmieniać funkcji celu (choć to zrobiliśmy): jej współczynniki to $(1, 2, 1)$, po zamianie na problem dualny naturalny wierzchołek byłby też dopuszczalny. Jednakże nie zawsze tak jest, stąd potrzeba (w ogólności) zamiany funkcji celu np. na stałą równą zero.\n",
    "\n",
    "Zobaczmy jeszcze rozwiązanie optymalne naszego problemu:"
   ]
  },
  {
   "cell_type": "code",
   "execution_count": 6,
   "metadata": {
    "collapsed": false
   },
   "outputs": [
    {
     "name": "stdout",
     "output_type": "stream",
     "text": [
      "\\begin{equation*}\n",
      "\\renewcommand{\\arraystretch}{1.5} %notruncate\n",
      "\\begin{array}{|rcrcrcrcr|}\n",
      "\\hline\n",
      "\\color{red}w_{1} \\mspace{-6mu}&\\color{red}\\mspace{-6mu} = \\mspace{-6mu}&\\color{red}\\mspace{-6mu} 2 \\mspace{-6mu}&\\color{red}\\mspace{-6mu} - \\mspace{-6mu}&\\color{blue}\\mspace{-6mu} x_{1} \\mspace{-6mu}&\\color{red}\\mspace{-6mu} - \\mspace{-6mu}&\\color{red}\\mspace{-6mu} 5 x_{2} \\mspace{-6mu}&\\color{red}\\mspace{-6mu} - \\mspace{-6mu}&\\color{red}\\mspace{-6mu} w_{2}\\\\\n",
      "x_{3} \\mspace{-6mu}&\\mspace{-6mu} = \\mspace{-6mu}&\\mspace{-6mu} 2 \\mspace{-6mu}&\\mspace{-6mu}  \\mspace{-6mu}&\\color{green}\\mspace{-6mu}  \\mspace{-6mu}&\\mspace{-6mu} + \\mspace{-6mu}&\\mspace{-6mu} 2 x_{2} \\mspace{-6mu}&\\mspace{-6mu} + \\mspace{-6mu}&\\mspace{-6mu} w_{2}\\\\\n",
      "\\hline\n",
      "z \\mspace{-6mu}&\\mspace{-6mu} = \\mspace{-6mu}&\\mspace{-6mu} 2 \\mspace{-6mu}&\\mspace{-6mu} + \\mspace{-6mu}&\\color{green}\\mspace{-6mu} x_{1} \\mspace{-6mu}&\\mspace{-6mu} + \\mspace{-6mu}&\\mspace{-6mu} 4 x_{2} \\mspace{-6mu}&\\mspace{-6mu} + \\mspace{-6mu}&\\mspace{-6mu} w_{2}\\\\\n",
      "\\hline\n",
      "\\end{array}\n",
      "\\end{equation*}\n",
      "Entering: $x_{1}$. Leaving: $w_{1}$. \n",
      "\\begin{equation*}\n",
      "\\renewcommand{\\arraystretch}{1.5} %notruncate\n",
      "\\begin{array}{|rcrcrcrcr|}\n",
      "\\hline\n",
      "x_{1} \\mspace{-6mu}&\\mspace{-6mu} = \\mspace{-6mu}&\\mspace{-6mu} 2 \\mspace{-6mu}&\\mspace{-6mu} - \\mspace{-6mu}&\\mspace{-6mu} w_{1} \\mspace{-6mu}&\\mspace{-6mu} - \\mspace{-6mu}&\\mspace{-6mu} 5 x_{2} \\mspace{-6mu}&\\mspace{-6mu} - \\mspace{-6mu}&\\mspace{-6mu} w_{2}\\\\\n",
      "x_{3} \\mspace{-6mu}&\\mspace{-6mu} = \\mspace{-6mu}&\\mspace{-6mu} 2 \\mspace{-6mu}&\\mspace{-6mu}  \\mspace{-6mu}&\\mspace{-6mu}  \\mspace{-6mu}&\\mspace{-6mu} + \\mspace{-6mu}&\\mspace{-6mu} 2 x_{2} \\mspace{-6mu}&\\mspace{-6mu} + \\mspace{-6mu}&\\mspace{-6mu} w_{2}\\\\\n",
      "\\hline\n",
      "z \\mspace{-6mu}&\\mspace{-6mu} = \\mspace{-6mu}&\\mspace{-6mu} 4 \\mspace{-6mu}&\\mspace{-6mu} - \\mspace{-6mu}&\\mspace{-6mu} w_{1} \\mspace{-6mu}&\\mspace{-6mu} - \\mspace{-6mu}&\\mspace{-6mu} x_{2} \\mspace{-6mu}&\\mspace{-6mu}  \\mspace{-6mu}&\\mspace{-6mu} \\\\\n",
      "\\hline\n",
      "\\end{array}\n",
      "\\end{equation*}\n"
     ]
    }
   ],
   "source": [
    "print(D.run_simplex_method())"
   ]
  },
  {
   "cell_type": "markdown",
   "metadata": {
    "collapsed": false
   },
   "source": [
    "Rozwiązaniem optymalnym jest $4$ dla $(x_1, x_2, x_3) = (2, 0, 2)$."
   ]
  }
 ],
 "metadata": {
  "kernelspec": {
   "display_name": "SageMath 9.2",
   "env": {
   },
   "language": "sagemath",
   "metadata": {
    "cocalc": {
     "description": "Open-source mathematical software system",
     "priority": 1,
     "url": "https://www.sagemath.org/"
    }
   },
   "name": "sage-9.2",
   "resource_dir": "/ext/jupyter/kernels/sage-9.2"
  },
  "language_info": {
   "codemirror_mode": {
    "name": "ipython",
    "version": 3
   },
   "file_extension": ".py",
   "mimetype": "text/x-python",
   "name": "python",
   "nbconvert_exporter": "python",
   "pygments_lexer": "ipython3",
   "version": "3.8.10"
  }
 },
 "nbformat": 4,
 "nbformat_minor": 4
}