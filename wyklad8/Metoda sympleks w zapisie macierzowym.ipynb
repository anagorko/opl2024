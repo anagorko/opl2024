{
 "cells": [
  {
   "cell_type": "markdown",
   "metadata": {
    "collapsed": false
   },
   "source": [
    "# Zapis macierzowy"
   ]
  },
  {
   "cell_type": "markdown",
   "metadata": {
    "collapsed": false
   },
   "source": [
    "Dany jest problem w postaci standardowej.\n",
    "\n",
    "$\\sum_{j=1}^n c_j x_j \\to \\max$\n",
    "\n",
    "$\\sum_{j=1}^n a_{ij} x_j \\leq b_i$ dla $i = 1, 2, \\ldots, m$\n",
    "\n",
    "$x_j \\geq 0$ dla $j = 1, 2, \\ldots, n$.\n",
    "\n",
    "Sprowadzamy problem do postaci równościowej:\n",
    "\n",
    "$x_{n+i} = b_i - \\sum_{j=1}^n a_{ij} x_j$ dla $i = 1, 2, \\ldots, m$."
   ]
  },
  {
   "cell_type": "markdown",
   "metadata": {
    "collapsed": false
   },
   "source": [
    "I przepisujemy problem w postaci macierzowej:\n",
    "\n",
    "$c^T x \\to \\max$\n",
    "\n",
    "$Ax = b$\n",
    "\n",
    "$x \\geq 0$\n",
    "\n",
    "gdzie \n",
    "\n",
    "$\n",
    "A = \\begin{bmatrix}\n",
    "a_{11} & a_{12} & \\ldots & a_{1n} & 1 &   &        & \\\\\n",
    "a_{21} & a_{22} & \\ldots & a_{2n} &   & 1 &        & \\\\\n",
    "\\vdots & \\vdots &        & \\vdots &   &   & \\ddots & \\\\\n",
    "a_{m1} & a_{m2} & \\ldots & a_{mn} &   &   &        & 1 \\\\\n",
    "\\end{bmatrix}\n",
    "$\n",
    "\n",
    "$\n",
    "b = \\begin{bmatrix}\n",
    "b_1 \\\\ b_2 \\\\ \\vdots \\\\ b_m\n",
    "\\end{bmatrix}, \n",
    "c = \\begin{bmatrix}\n",
    "c_1 \\\\ c_2 \\\\ \\vdots \\\\ c_n \\\\ 0 \\\\ \\vdots \\\\ 0\n",
    "\\end{bmatrix}, \n",
    "x = \\begin{bmatrix}\n",
    "x_1 \\\\ x_2 \\\\ \\vdots \\\\ x_n \\\\ x_{n+1} \\\\ \\vdots \\\\ x_{n+m}\\end{bmatrix}\n",
    "$"
   ]
  },
  {
   "cell_type": "markdown",
   "metadata": {
    "collapsed": false
   },
   "source": [
    "Niech $\\mathcal{B}$ będzie zbiorem bazowym a $\\mathcal{N}$ zbiorem dopełniającym (niebazowym). Wtedy\n",
    "\n",
    "$Ax = b$\n",
    "\n",
    "możemy przepisać jako\n",
    "\n",
    "$A_\\mathcal{B} x_\\mathcal{B} + A_\\mathcal{N} x_\\mathcal{N} = b$.\n",
    "\n",
    "Będziemy pisać $B = A_\\mathcal{B}$ i $N = A_\\mathcal{N}$.\n",
    "\n",
    "Z odwracalności macierzy $A_\\mathcal{B}$ mamy\n",
    "\n",
    "$\n",
    "x_\\mathcal{B} = B^{-1} b - B^{-1} N x_\\mathcal{N}$."
   ]
  },
  {
   "cell_type": "markdown",
   "metadata": {
    "collapsed": false
   },
   "source": [
    "Podobnie\n",
    "\n",
    "$\n",
    "\\zeta = c^T_\\mathcal{B} x_\\mathcal{B} + c^T_\\mathcal{N} x_\\mathcal{N} =\n",
    "$\n",
    "\n",
    "$= c^T_\\mathcal{B} (B^{-1} b - B^{-1} N x_\\mathcal{N}) + c^T_\\mathcal{N} x_\\mathcal{N} =$\n",
    "\n",
    "$= c^T_\\mathcal{B} B^{-1} b - ((B^{-1}N)^Tc_\\mathcal{B} - c_\\mathcal{N})^Tx_\\mathcal{N}$.\n",
    "\n",
    "Daje to tabelkę\n",
    "\n",
    "$\\zeta = c^T_\\mathcal{B} B^{-1} b - ((B^{-1}N)^Tc_\\mathcal{B} - c_\\mathcal{N})^Tx_\\mathcal{N}$\n",
    "\n",
    "$x_\\mathcal{B} = B^{-1} b - B^{-1} N x_\\mathcal{N}$."
   ]
  },
  {
   "cell_type": "markdown",
   "metadata": {
    "collapsed": false
   },
   "source": [
    "Rozwiązanie bazowe dla $\\mathcal{B}$ uzyskujemy ustawiając zmienne niebazowe na zero.\n",
    "\n",
    "$x^\\ast_\\mathcal{N} = 0$\n",
    "\n",
    "$x^\\ast_\\mathcal{B} = B^{-1} b$.\n",
    "\n",
    "Jak wiemy, z tabelką problemu pierwotnego powiązana jest tabelka problemu dualnego, która jest \"minus transpozycją\" tamtej. Wymaga to odpowiedniego sparowania zmiennych: niech zmienne dodane problemu dualnego to $z_1, \\ldots z_n$, zaś $z_{n+1}, z_{n+2}, \\ldots, z_{n+m}$ to zmienne dualne.\n",
    "Wtedy sparowanie zmiennych to $x_i \\leftrightarrow z_i$. Przy tych oznaczeniach tabelka problemu dualnego to\n",
    "\n",
    "$-\\xi = -c^T_\\mathcal{B} B^{-1}b - (B^{-1} b)^T z_\\mathcal{B}$\n",
    "\n",
    "$z_\\mathcal{N} = (B^{-1} N)^T c_\\mathcal{B} - c_\\mathcal{N} + (B^{-1}N)^T z_\\mathcal{B}$."
   ]
  },
  {
   "cell_type": "markdown",
   "metadata": {
    "collapsed": false
   },
   "source": [
    "Rozwiązanie dualne dla tej tabelki otrzymujemy ustawiając zmienne niebazowe na zero.\n",
    "\n",
    "$z^\\ast_\\mathcal{B} = 0$\n",
    "\n",
    "$z^\\ast_\\mathcal{N} = (B^{-1}N)^T c_\\mathcal{B} - c_\\mathcal{N}$.\n",
    "\n",
    "Wprowadzając oznaczenie $\\zeta^\\ast = c^T_\\mathcal{B} B^{-1}b$ możemy zapisać tabelkę problemu pierwotnego jako\n",
    "\n",
    "$\\zeta = \\zeta^\\ast - {z^\\ast_\\mathcal{N}}^T x_\\mathcal{N}$\n",
    "\n",
    "$x_\\mathcal{B} = x^\\ast_\\mathcal{B} - B^{-1} N x_\\mathcal{N}$.\n",
    "\n",
    "Tabelka problemu pierwotnego jest symetryczna do tej:\n",
    "\n",
    "$-\\xi = -\\zeta^\\ast - (x^\\ast_\\mathcal{B})^T z_\\mathcal{B}$\n",
    "\n",
    "$z_\\mathcal{N} = z^\\ast_\\mathcal{N} + (B^{-1} N)^T z_\\mathcal{B}$."
   ]
  },
  {
   "cell_type": "markdown",
   "metadata": {
    "collapsed": false
   },
   "source": [
    "# Primal Simplex Method\n",
    "\n",
    "Zaczynamy mając dane: \n",
    "\n",
    "* zbiór bazowy $\\mathcal{B} \\subset \\{ 1, 2, \\ldots, n+ m \\}$ i dopełniający zbiór $\\mathcal{N}$; \n",
    "* rozwiązanie bazowe dopuszczalne $x^\\ast_\\mathcal{B} \\geq 0$ (gdzie $x^\\ast_\\mathcal{N} = 0$); \n",
    "* rozwiązanie bazowe dualne $z^\\ast_\\mathcal{N}$ (gdzie $z^\\ast_\\mathcal{B} = 0$).\n",
    "\n",
    "Jak długo $z^\\ast_\\mathcal{N} \\not\\geq 0$ wykonujemy:\n",
    "\n",
    "1. Wybieramy $j \\in \\{ j \\in \\mathcal{N} \\colon z^\\ast_j < 0 \\}$.\n",
    "\n",
    "2. Obliczamy $\\Delta x_\\mathcal{B} = B^{-1} N e_j$.\n",
    "\n",
    "3. $t = \\left( \\max_{i \\in \\mathcal{B}} \\frac{\\Delta x_i}{x^\\ast_i}\\right)^{-1}$\n",
    "\n",
    "4. Wybieramy $i \\in \\argmax_{i \\in \\mathcal{B}} \\frac{\\Delta x_i}{x^\\ast_i}$\n",
    "\n",
    "5. $\\Delta z_\\mathcal{N} = -(B^{-1} N)^T e_i$\n",
    "\n",
    "6. $s = \\frac{z^\\ast_j}{\\Delta z_j}$\n",
    "\n",
    "7. $x^\\ast_j \\leftarrow t$\n",
    "\n",
    "8. $x^\\ast_\\mathcal{B} \\leftarrow x^\\ast_\\mathcal{B} - t\\Delta x_\\mathcal{B}$\n",
    "\n",
    "9. $z^\\ast_i \\leftarrow s$\n",
    "\n",
    "10. $z^\\ast_\\mathcal{N} \\leftarrow z^\\ast_\\mathcal{N} - s \\Delta z_\\mathcal{N}$\n",
    "\n",
    "11. $\\mathcal{B} \\leftarrow \\mathcal{B} \\setminus \\{ i \\} \\cup \\{ j \\}$."
   ]
  },
  {
   "cell_type": "markdown",
   "metadata": {
    "collapsed": false
   },
   "source": [
    "# Dual Simplex Method"
   ]
  },
  {
   "cell_type": "code",
   "execution_count": 0,
   "metadata": {
    "collapsed": false
   },
   "outputs": [
   ],
   "source": [
   ]
  },
  {
   "cell_type": "code",
   "execution_count": 0,
   "metadata": {
    "collapsed": false
   },
   "outputs": [
   ],
   "source": [
   ]
  },
  {
   "cell_type": "markdown",
   "metadata": {
    "collapsed": false
   },
   "source": [
    "Zaczynamy mając dane: \n",
    "\n",
    "* zbiór bazowy $\\mathcal{B} \\subset \\{ 1, 2, \\ldots, n+ m \\}$ i dopełniający zbiór $\\mathcal{N}$; \n",
    "* rozwiązanie bazowe $x^\\ast_\\mathcal{B} \\geq 0$ (gdzie $x^\\ast_\\mathcal{N} = 0$); \n",
    "* rozwiązanie bazowe dopuszczalne dualne $z^\\ast_\\mathcal{N} \\geq 0$ (gdzie $z^\\ast_\\mathcal{N} = 0$).\n",
    "\n",
    "Jak długo $x^\\ast_\\mathcal{B} \\not\\geq 0$ wykonujemy:\n",
    "\n",
    "1. Wybieramy $i \\in \\{ i \\in \\mathcal{B} \\colon x^\\ast_i < 0 \\}$.\n",
    "\n",
    "2. Obliczamy $\\Delta z_\\mathcal{N} = -(B^{-1} N)^T e_i$.\n",
    "\n",
    "3. $s = \\left( \\max_{j \\in \\mathcal{N}} \\frac{\\Delta z_j}{z^\\ast_j}\\right)^{-1}$\n",
    "\n",
    "4. Wybieramy $j \\in \\argmax_{j \\in \\mathcal{N}} \\frac{\\Delta z_j}{z^\\ast_j}$\n",
    "\n",
    "5. $\\Delta x_\\mathcal{B} = B^{-1} N e_j$\n",
    "\n",
    "6. $t = \\frac{x^\\ast_i}{\\Delta x_i}$\n",
    "\n",
    "7. $x^\\ast_j \\leftarrow t$\n",
    "\n",
    "8. $x^\\ast_\\mathcal{B} \\leftarrow x^\\ast_\\mathcal{B} - t\\Delta x_\\mathcal{B}$\n",
    "\n",
    "9. $z^\\ast_i \\leftarrow s$\n",
    "\n",
    "10. $z^\\ast_\\mathcal{N} \\leftarrow z^\\ast_\\mathcal{N} - s \\Delta z_\\mathcal{N}$\n",
    "\n",
    "11. $\\mathcal{B} \\leftarrow \\mathcal{B} \\setminus \\{ i \\} \\cup \\{ j \\}$."
   ]
  },
  {
   "cell_type": "markdown",
   "metadata": {
    "collapsed": false
   },
   "source": [
    "# Metoda dwufazowa\n",
    "\n",
    "Tabelka problemu pierwotnego dla $\\mathcal{B} = \\{n+1, n+2, \\ldots, n+m \\}$ i $\\mathcal{N} = \\{1, 2, \\ldots, n\\}$ to\n",
    "\n",
    "$\\zeta = c^T_\\mathcal{N} x_\\mathcal{N}$\n",
    "\n",
    "$x_\\mathcal{B} = b - N x_\\mathcal{N}$.\n",
    "\n",
    "Jeżeli $b \\geq 0$ i $c_\\mathcal{N} \\leq 0$, to tabelka jest optymalna. Co, gdy jeden z tych wektorów ma składową o złym znaku?\n",
    "\n",
    "Jeżeli $b \\geq 0$ ale $c_\\mathcal{N} \\not\\leq 0$, to tabelka jest dopuszczalna i możemy rozwiązać problem metodą sympleks.\n",
    "\n",
    "Jeżeli $b \\not\\geq 0$ ale $c_\\mathcal{N} \\leq 0$, to tabelka problemu dualnego jest dopuszczalna i możemy rozwiązać problem dualną metodą sympleks.\n",
    "\n",
    "Najczęstszym jednak przypadkiem będzie, że zarówno $b \\not\\geq 0$ jak i $c_\\mathcal{N} \\not\\leq 0$. Wtedy stosujemy dwufazową metodę sympleks.\n",
    "Są dwie możliwości. Albo tymczasowo podstawimy pod $c_\\mathcal{N}$ niedodatni wektor i znajdziemy wierzchołek startowy za pomocą dualnej metody sympleks.\n",
    "Albo podstawimy pod $b$ nieujemny wektor i znajdziemy wierzchołek startowy za pomocą zwykłej metody sympleks.\n",
    "\n",
    "Po znalezieniu wierzchołka startowego przywracamy $c_\\mathcal{N}$ (lub $b$) i rozwiązujemy problem zwykłą metodą sympleks (lub dualną)."
   ]
  },
  {
   "cell_type": "code",
   "execution_count": 0,
   "metadata": {
    "collapsed": false
   },
   "outputs": [
   ],
   "source": [
   ]
  }
 ],
 "metadata": {
  "kernelspec": {
   "argv": [
    "sage-9.8",
    "--python",
    "-m",
    "sage.repl.ipython_kernel",
    "--matplotlib=inline",
    "-f",
    "{connection_file}"
   ],
   "display_name": "SageMath 9.8",
   "env": {
   },
   "language": "sagemath",
   "metadata": {
    "cocalc": {
     "description": "Open-source mathematical software system",
     "priority": 1,
     "url": "https://www.sagemath.org/"
    }
   },
   "name": "sage-9.8",
   "resource_dir": "/ext/jupyter/kernels/sage-9.8"
  },
  "language_info": {
   "codemirror_mode": {
    "name": "ipython",
    "version": 3
   },
   "file_extension": ".py",
   "mimetype": "text/x-python",
   "name": "python",
   "nbconvert_exporter": "python",
   "pygments_lexer": "ipython3",
   "version": "3.8.5"
  }
 },
 "nbformat": 4,
 "nbformat_minor": 4
}