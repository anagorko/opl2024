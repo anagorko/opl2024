{
 "cells": [
  {
   "cell_type": "markdown",
   "metadata": {
    "collapsed": false
   },
   "source": [
    "# Adversarial Input\n",
    "\n",
    "[A Brief Introduction to Adversarial Examples](https://gradientscience.org/intro_adversarial/)"
   ]
  },
  {
   "cell_type": "markdown",
   "metadata": {
    "collapsed": false
   },
   "source": [
    "## Szukanie przykładów za pomocą problemów całkowitoliczbowych"
   ]
  },
  {
   "cell_type": "markdown",
   "metadata": {
    "collapsed": false
   },
   "source": [
    "Rozpatrzmy następującą sieć nauczoną liczyć funkcję XOR:"
   ]
  },
  {
   "cell_type": "code",
   "execution_count": 68,
   "metadata": {
    "collapsed": false
   },
   "outputs": [
    {
     "data": {
      "image/png": "[encoded data removed]",
      "text/plain": [
       "<Figure size 432x288 with 1 Axes>"
      ]
     },
     "execution_count": 68,
     "metadata": {
     },
     "output_type": "execute_result"
    }
   ],
   "source": [
    "import networkx\n",
    "g = networkx.DiGraph()\n",
    "g.add_edges_from([('x', 'd1'), ('x', 'd2'), ('x', 'd3'), ('y', 'd1'), ('y', 'd2'), ('y', 'd3'), ('d1', 'o'), ('d2', 'o'), ('d3', 'o')])\n",
    "layers = {'x': {'layer': 0}, 'y': {'layer': 0}, 'd1': {'layer': 1}, 'd2': {'layer': 1}, 'd3': {'layer': 1}, 'o': {'layer': 2}}\n",
    "networkx.set_node_attributes(g, layers)\n",
    "pos = networkx.multipartite_layout(g, subset_key='layer')\n",
    "networkx.draw_networkx(g, pos=pos, with_labels=True, node_color='#e8e8e8', labels={'x': 'x', 'y': 'y', 'd1': '0.28', 'd2': '0.40', 'd3': '0.00', 'o': '0.24'}, node_size=1200)\n",
    "edge_labels = networkx.draw_networkx_edge_labels(g,pos=pos,edge_labels={('x', 'd1'): '1.10', ('x', 'd2'): '-0.40', ('x', 'd3'): '-1.39',\n",
    "                                                                        ('y', 'd1'): '0.52', ('y', 'd2'): '1.63', ('y', 'd3'): '1.39',\n",
    "                                                                        ('d1', 'o'): '0.52', ('d2', 'o'): '-0.69', ('d3', 'o'): '1.25'},font_color='red', label_pos=0.3)"
   ]
  },
  {
   "cell_type": "markdown",
   "metadata": {
    "collapsed": false
   },
   "source": [
    "Funkcja aktywacji to ReLU. Jest to sieć licząca wartość funkcji XOR."
   ]
  },
  {
   "cell_type": "code",
   "execution_count": 93,
   "metadata": {
    "collapsed": false
   },
   "outputs": [
    {
     "name": "stdout",
     "output_type": "stream",
     "text": [
      "0, 0 -> 0.109600000000000\n",
      "0, 1 -> 0.992800000000000\n",
      "1, 0 -> 0.957600000000000\n",
      "1, 1 -> 0.103300000000000\n"
     ]
    }
   ],
   "source": [
    "def ReLU(x):\n",
    "    return 0 if x < 0 else x\n",
    "\n",
    "def d1(x, y):\n",
    "    return ReLU(1.10 * x + 0.52 * y + 0.28)\n",
    "def d2(x, y):\n",
    "    return ReLU(-0.40 * x + 1.63 * y + 0.40)\n",
    "def d3(x, y):\n",
    "    return ReLU(-1.39 * x + 1.39 * y)\n",
    "\n",
    "def o(d1, d2, d3):\n",
    "    return ReLU(0.52 * d1 - 0.69 * d2 + 1.25 * d3 + 0.24)\n",
    "\n",
    "def model(x, y):\n",
    "    return o(d1(x, y), d2(x, y), d3(x, y))\n",
    "\n",
    "for x, y in [[0,0], [0,1], [1,0], [1,1]]:\n",
    "    print(f'{x}, {y} -> {model(x,y)}')"
   ]
  },
  {
   "cell_type": "markdown",
   "metadata": {
    "collapsed": false
   },
   "source": [
    "Wykonywane tu są operacje:\n",
    "\n",
    "```\n",
    "d1 = ReLU(1.10 * x + 0.52 * y + 0.28)\n",
    "d2 = ReLU(-0.40 * x + 1.63 * y + 0.40)\n",
    "d3 = ReLU(-1.39 * x + 1.39 * y)\n",
    "o = ReLU(0.52 * d1 - 0.69 * d2 + 1.25 * d3 + 0.24)\n",
    "```"
   ]
  },
  {
   "cell_type": "markdown",
   "metadata": {
    "collapsed": false
   },
   "source": [
    "Dla argumentu $x \\in [a, b]$ funkcję $r = ReLU(x)$ możemy zapisać warunkami (zakładamy, że $a < 0 < b$)\n",
    "\n",
    "$r \\geq 0$\n",
    "\n",
    "$r \\geq x$\n",
    "\n",
    "$r \\leq x - (1 - t)a$\n",
    "\n",
    "$r \\leq t b$\n",
    "\n",
    "$t \\in \\{0, 1\\}$\n",
    "\n",
    "(binarna zmienna $t$ to zmienna pomocnicza)."
   ]
  },
  {
   "cell_type": "markdown",
   "metadata": {
    "collapsed": false
   },
   "source": [
    "W naszym przypadku na pewno $1.10 x + 0.52 y + 0.28 \\geq 0$, więc $d1_ = 1.10 x + 0.52 y + 0.28$ i $d_1 \\in [0, 1.90]$.\n",
    "\n",
    "Podobnie $-0.40x + 1.63y + 0.40 \\geq 0$, więc $d_2 = -0.40x + 1.63y + 0.40$ i $d_2 \\in [0, 2.03]$.\n",
    "\n",
    "Za to $-1.39x + 1.39y \\in [-1.39, 1.39]$, czyli $d_3 \\in [0, 1.39]$.\n",
    "\n",
    "Podobnie $0.52 d_1 - 0.69d_2 + 1.25 d_3 + 0.24 \\in [-1.65, 2.97]$"
   ]
  },
  {
   "cell_type": "markdown",
   "metadata": {
    "collapsed": false
   },
   "source": [
    "Stąd program całkowitoliczbowy\n",
    "\n",
    "$x + y \\to \\min$\n",
    "\n",
    "$d_1 = 1.10 x + 0.52y + 0.28$\n",
    "\n",
    "$d_2 = -0.4 x + 1.63y + 0.4$\n",
    "\n",
    "$d_3 \\geq 0$\n",
    "\n",
    "$d_3 \\geq -1.39x + 1.39y$\n",
    "\n",
    "$d_3 \\leq -1.39x + 1.39y - (1-t_1) \\cdot (-1.39)$\n",
    "\n",
    "$d_3 \\leq t_1 \\cdot 1.39$\n",
    "\n",
    "$t_1 \\in \\{ 0, 1 \\}$\n",
    "\n",
    "$o \\geq 0$\n",
    "\n",
    "$o \\geq 0.52 d_1 - 0.69 d_2 + 1.25 d_3 + 0.24$\n",
    "\n",
    "$o \\leq 0.52 d_1 - 0.69 d_2 + 1.25 d_3 + 0.24 - (1 - t_2) (-1.65)$\n",
    "\n",
    "$o \\leq t_2 \\cdot 2.97$\n",
    "\n",
    "$t_2 \\in \\{ 0, 1 \\}$\n",
    "\n",
    "$o \\geq \\frac 12$"
   ]
  },
  {
   "cell_type": "code",
   "execution_count": 89,
   "metadata": {
    "collapsed": false
   },
   "outputs": [
   ],
   "source": [
    "p = MixedIntegerLinearProgram(maximization=False, solver='GLPK')\n",
    "i = p.new_variable(nonnegative=True)\n",
    "i.set_max(1)\n",
    "x = i[0]\n",
    "y = i[1]\n",
    "d = p.new_variable(nonnegative=True)\n",
    "o_ = p.new_variable(nonnegative=True)\n",
    "o = o_[0]\n",
    "t = p.new_variable(binary=True)\n",
    "\n",
    "p.set_objective(x + y)\n",
    "p.add_constraint(d[1] == 1.10 * x + 0.52 * y + 0.28)\n",
    "p.add_constraint(d[2] == -0.4 * x + 1.63 * y + 0.4)\n",
    "p.add_constraint(d[3] >= -1.39 * x + 1.39 * y)\n",
    "p.add_constraint(d[3] <= -1.39 * x + 1.39 * y - (1 - t[1]) * (-1.39))\n",
    "p.add_constraint(d[3] <= t[1] * 1.39)\n",
    "p.add_constraint(o >= 0.52 * d[1] - 0.69 * d[2] + 1.25 * d[3] + 0.24)\n",
    "p.add_constraint(o <= 0.52 * d[1] - 0.69 * d[2] + 1.25 * d[3] + 0.24 - (1 - t[2]) * (-1.65))\n",
    "p.add_constraint(o <= t[2] * 2.97)\n",
    "p.add_constraint(o >= 0.5)"
   ]
  },
  {
   "cell_type": "code",
   "execution_count": 90,
   "metadata": {
    "collapsed": false
   },
   "outputs": [
    {
     "data": {
      "text/plain": [
       "0.4420289855072466"
      ]
     },
     "execution_count": 90,
     "metadata": {
     },
     "output_type": "execute_result"
    }
   ],
   "source": [
    "p.solve()"
   ]
  },
  {
   "cell_type": "code",
   "execution_count": 91,
   "metadata": {
    "collapsed": false
   },
   "outputs": [
    {
     "data": {
      "text/plain": [
       "{0: 0.0, 1: 0.4420289855072466}"
      ]
     },
     "execution_count": 91,
     "metadata": {
     },
     "output_type": "execute_result"
    }
   ],
   "source": [
    "p.get_values(i)"
   ]
  },
  {
   "cell_type": "code",
   "execution_count": 94,
   "metadata": {
    "collapsed": false
   },
   "outputs": [
    {
     "name": "stdout",
     "output_type": "stream",
     "text": [
      "0.499974400000000\n"
     ]
    }
   ],
   "source": [
    "print(model(0.0, 0.4420))"
   ]
  },
  {
   "cell_type": "code",
   "execution_count": 0,
   "metadata": {
    "collapsed": false
   },
   "outputs": [
   ],
   "source": [
   ]
  }
 ],
 "metadata": {
  "kernelspec": {
   "display_name": "SageMath 9.3",
   "language": "sagemath",
   "metadata": {
    "cocalc": {
     "description": "Open-source mathematical software system",
     "priority": 1,
     "url": "https://www.sagemath.org/"
    }
   },
   "name": "sage-9.3",
   "resource_dir": "/ext/jupyter/kernels/sage-9.3"
  },
  "language_info": {
   "codemirror_mode": {
    "name": "ipython",
    "version": 3
   },
   "file_extension": ".py",
   "mimetype": "text/x-python",
   "name": "python",
   "nbconvert_exporter": "python",
   "pygments_lexer": "ipython3",
   "version": "3.9.2"
  }
 },
 "nbformat": 4,
 "nbformat_minor": 4
}