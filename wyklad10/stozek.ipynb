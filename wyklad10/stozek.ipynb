{
 "cells": [
  {
   "cell_type": "code",
   "execution_count": 1,
   "id": "bffedb58-2489-4446-84b7-45fc2932cba6",
   "metadata": {},
   "outputs": [
    {
     "data": {
      "text/html": [
       "<html>\\(\\displaystyle \\begin{array}{l}\n",
       "\\begin{array}{lcrcrcl}\n",
       " \\max \\mspace{-6mu}&\\mspace{-6mu}  \\mspace{-6mu}&\\mspace{-6mu}  \\mspace{-6mu}&\\mspace{-6mu}  \\mspace{-6mu}&\\mspace{-6mu} 0 \\mspace{-6mu}&\\mspace{-6mu}  \\mspace{-6mu}&\\mspace{-6mu} \\\\\n",
       " \\mspace{-6mu}&\\mspace{-6mu} - \\mspace{-6mu}&\\mspace{-6mu} x_{1} \\mspace{-6mu}&\\mspace{-6mu} + \\mspace{-6mu}&\\mspace{-6mu} x_{2} \\mspace{-6mu}&\\mspace{-6mu} \\leq \\mspace{-6mu}&\\mspace{-6mu} 1 \\\\\n",
       " \\mspace{-6mu}&\\mspace{-6mu}  \\mspace{-6mu}&\\mspace{-6mu} \\frac{1}{2} x_{1} \\mspace{-6mu}&\\mspace{-6mu} - \\mspace{-6mu}&\\mspace{-6mu} x_{2} \\mspace{-6mu}&\\mspace{-6mu} \\leq \\mspace{-6mu}&\\mspace{-6mu} 2 \\\\\n",
       "\\end{array} \\\\\n",
       "x_{1}, x_{2} \\geq 0\n",
       "\\end{array}\\)</html>"
      ],
      "text/latex": [
       "$\\displaystyle \\begin{array}{l}\n",
       "\\begin{array}{lcrcrcl}\n",
       " \\max \\mspace{-6mu}&\\mspace{-6mu}  \\mspace{-6mu}&\\mspace{-6mu}  \\mspace{-6mu}&\\mspace{-6mu}  \\mspace{-6mu}&\\mspace{-6mu} 0 \\mspace{-6mu}&\\mspace{-6mu}  \\mspace{-6mu}&\\mspace{-6mu} \\\\\n",
       " \\mspace{-6mu}&\\mspace{-6mu} - \\mspace{-6mu}&\\mspace{-6mu} x_{1} \\mspace{-6mu}&\\mspace{-6mu} + \\mspace{-6mu}&\\mspace{-6mu} x_{2} \\mspace{-6mu}&\\mspace{-6mu} \\leq \\mspace{-6mu}&\\mspace{-6mu} 1 \\\\\n",
       " \\mspace{-6mu}&\\mspace{-6mu}  \\mspace{-6mu}&\\mspace{-6mu} \\frac{1}{2} x_{1} \\mspace{-6mu}&\\mspace{-6mu} - \\mspace{-6mu}&\\mspace{-6mu} x_{2} \\mspace{-6mu}&\\mspace{-6mu} \\leq \\mspace{-6mu}&\\mspace{-6mu} 2 \\\\\n",
       "\\end{array} \\\\\n",
       "x_{1}, x_{2} \\geq 0\n",
       "\\end{array}$"
      ],
      "text/plain": [
       "LP problem (use 'view(...)' or '%display typeset' for details)"
      ]
     },
     "metadata": {},
     "output_type": "display_data"
    }
   ],
   "source": [
    "A = matrix([[-1, 1], [1/2, -1]])\n",
    "b = vector([1, 2])\n",
    "c = vector([0, 0])\n",
    "P = InteractiveLPProblemStandardForm(A, b, c)\n",
    "show(P)"
   ]
  },
  {
   "cell_type": "code",
   "execution_count": 3,
   "id": "d87babc0-7910-4ac8-8084-385797dbc457",
   "metadata": {},
   "outputs": [
    {
     "data": {
      "image/png": "[encoded data removed]",
      "text/plain": [
       "Graphics object consisting of 8 graphics primitives"
      ]
     },
     "execution_count": 3,
     "metadata": {},
     "output_type": "execute_result"
    }
   ],
   "source": [
    "plot(P, xmax=24, ymax=11)"
   ]
  },
  {
   "cell_type": "code",
   "execution_count": 4,
   "id": "339f3e3d-4ddc-40ed-9080-d98680df44f4",
   "metadata": {},
   "outputs": [
    {
     "data": {
      "text/html": [
       "\\begin{equation*}\n",
       "\\renewcommand{\\arraystretch}{1.5} %notruncate\n",
       "\\begin{array}{|rcrcrcr|}\n",
       "\\hline\n",
       "x_{1} \\mspace{-6mu}&\\mspace{-6mu} = \\mspace{-6mu}&\\mspace{-6mu} 4 \\mspace{-6mu}&\\mspace{-6mu} + \\mspace{-6mu}&\\mspace{-6mu} 2 x_{2} \\mspace{-6mu}&\\mspace{-6mu} - \\mspace{-6mu}&\\mspace{-6mu} 2 x_{4}\\\\\n",
       "x_{3} \\mspace{-6mu}&\\mspace{-6mu} = \\mspace{-6mu}&\\mspace{-6mu} 5 \\mspace{-6mu}&\\mspace{-6mu} + \\mspace{-6mu}&\\mspace{-6mu} x_{2} \\mspace{-6mu}&\\mspace{-6mu} - \\mspace{-6mu}&\\mspace{-6mu} 2 x_{4}\\\\\n",
       "\\hline\n",
       "z \\mspace{-6mu}&\\mspace{-6mu} = \\mspace{-6mu}&\\mspace{-6mu} 0 \\mspace{-6mu}&\\mspace{-6mu}  \\mspace{-6mu}&\\mspace{-6mu}  \\mspace{-6mu}&\\mspace{-6mu}  \\mspace{-6mu}&\\mspace{-6mu} \\\\\n",
       "\\hline\n",
       "\\end{array}\n",
       "\\end{equation*}"
      ],
      "text/plain": [
       "LP problem dictionary (use 'view(...)' or '%display typeset' for details)"
      ]
     },
     "metadata": {},
     "output_type": "display_data"
    }
   ],
   "source": [
    "show(P.dictionary(1,3))"
   ]
  },
  {
   "cell_type": "code",
   "execution_count": null,
   "id": "44229498-48bd-4fda-a7da-ebe3b5d5561e",
   "metadata": {},
   "outputs": [],
   "source": []
  },
  {
   "cell_type": "code",
   "execution_count": 13,
   "id": "fea32472-cf59-4351-9a1c-6794b6d6cca6",
   "metadata": {},
   "outputs": [],
   "source": [
    "from itertools import combinations\n",
    "\n",
    "def zbiory_bazowe_dopuszczalne(A, b):\n",
    "    \"\"\"Dany problem w postaci równościowej: Ax = b, x >= 0.\"\"\"\n",
    "    \n",
    "    n = A.ncols()  # wymiar przestrzeni\n",
    "    m = A.nrows()  # liczba równań\n",
    "\n",
    "    bazowe_dopuszczalne = []\n",
    "    \n",
    "    for Base in combinations(range(n), m):\n",
    "        AB = A.matrix_from_columns(Base)\n",
    "        if AB.det() != 0:\n",
    "            if  all(i >= 0 for i in ~AB * b):\n",
    "                bazowe_dopuszczalne.append(Base)\n",
    "\n",
    "    return bazowe_dopuszczalne\n",
    "\n",
    "def rozwiazanie_bazowe(A, b, Base):\n",
    "    \"\"\"Dany problem w postaci równościowej: Ax = b, x >= 0.\"\"\"\n",
    "\n",
    "    AB = A.matrix_from_columns(Base)\n",
    "    if AB.det() == 0:\n",
    "        return None\n",
    "    \n",
    "    n = A.ncols()  # wymiar przestrzeni\n",
    "\n",
    "    wartosci_bazowe = ~AB * b\n",
    "    rozwiazanie = [0] * n\n",
    "    for i, bi in enumerate(Base):\n",
    "        rozwiazanie[bi] = wartosci_bazowe[i]\n",
    "    return rozwiazanie\n",
    "\n",
    "def wierzcholki(A, b):\n",
    "    \"\"\"Dany problem w postaci standardowej: Ax <= b, x >= 0.\"\"\"\n",
    "\n",
    "    n = A.ncols()  # wymiar przestrzeni\n",
    "    m = A.nrows()  # liczba nierówności\n",
    "    A = A.augment(identity_matrix(m))  # macierz w postaci równościowej\n",
    "    \n",
    "    # Poniżej używamy zbioru a nie listy by usunąć duplikaty\n",
    "    # Wymaga to konwersji list na krotki (\"tuple\"), bo elementy zbioru muszą być \"immutable\"\n",
    "    \n",
    "    return {tuple(rozwiazanie_bazowe(A, b, Base)[0: n]) for Base in zbiory_bazowe_dopuszczalne(A, b)}"
   ]
  },
  {
   "cell_type": "code",
   "execution_count": 14,
   "id": "ea889bc7-433d-4d70-99cc-af93719c2c8f",
   "metadata": {},
   "outputs": [
    {
     "data": {
      "text/plain": [
       "{(0, 0), (0, 1), (4, 0)}"
      ]
     },
     "execution_count": 14,
     "metadata": {},
     "output_type": "execute_result"
    }
   ],
   "source": [
    "W = wierzcholki(A, b)\n",
    "W"
   ]
  },
  {
   "cell_type": "code",
   "execution_count": 15,
   "id": "39e8ecc9-469c-4d8d-a4f8-ed538e940a2e",
   "metadata": {},
   "outputs": [
    {
     "data": {
      "image/png": "[encoded data removed]",
      "text/plain": [
       "Graphics object consisting of 5 graphics primitives"
      ]
     },
     "execution_count": 15,
     "metadata": {},
     "output_type": "execute_result"
    }
   ],
   "source": [
    "plot(Polyhedron(W)) # czegoś tu brakuje..."
   ]
  },
  {
   "cell_type": "code",
   "execution_count": 16,
   "id": "1c5de72e-125b-4c44-a4eb-62ecc4c72e3f",
   "metadata": {},
   "outputs": [
    {
     "data": {
      "text/plain": [
       "[(0, 2), (1, 3), (2, 3)]"
      ]
     },
     "execution_count": 16,
     "metadata": {},
     "output_type": "execute_result"
    }
   ],
   "source": [
    "zbiory_bazowe_dopuszczalne(A.augment(identity_matrix(2)), b)"
   ]
  },
  {
   "cell_type": "code",
   "execution_count": 17,
   "id": "2f87e633-1ee2-4751-be28-b1d482b92183",
   "metadata": {},
   "outputs": [
    {
     "data": {
      "text/html": [
       "\\begin{equation*}\n",
       "\\renewcommand{\\arraystretch}{1.5} %notruncate\n",
       "\\begin{array}{|rcrcrcr|}\n",
       "\\hline\n",
       "x_{1} \\mspace{-6mu}&\\mspace{-6mu} = \\mspace{-6mu}&\\mspace{-6mu} 4 \\mspace{-6mu}&\\mspace{-6mu} + \\mspace{-6mu}&\\mspace{-6mu} 2 x_{2} \\mspace{-6mu}&\\mspace{-6mu} - \\mspace{-6mu}&\\mspace{-6mu} 2 x_{4}\\\\\n",
       "x_{3} \\mspace{-6mu}&\\mspace{-6mu} = \\mspace{-6mu}&\\mspace{-6mu} 5 \\mspace{-6mu}&\\mspace{-6mu} + \\mspace{-6mu}&\\mspace{-6mu} x_{2} \\mspace{-6mu}&\\mspace{-6mu} - \\mspace{-6mu}&\\mspace{-6mu} 2 x_{4}\\\\\n",
       "\\hline\n",
       "z \\mspace{-6mu}&\\mspace{-6mu} = \\mspace{-6mu}&\\mspace{-6mu} 0 \\mspace{-6mu}&\\mspace{-6mu}  \\mspace{-6mu}&\\mspace{-6mu}  \\mspace{-6mu}&\\mspace{-6mu}  \\mspace{-6mu}&\\mspace{-6mu} \\\\\n",
       "\\hline\n",
       "\\end{array}\n",
       "\\end{equation*}"
      ],
      "text/plain": [
       "LP problem dictionary (use 'view(...)' or '%display typeset' for details)"
      ]
     },
     "execution_count": 17,
     "metadata": {},
     "output_type": "execute_result"
    }
   ],
   "source": [
    "%display typeset\n",
    "\n",
    "P.dictionary(1, 3)"
   ]
  },
  {
   "cell_type": "code",
   "execution_count": 18,
   "id": "49f6050c-ee20-4f7a-915b-023ace49c365",
   "metadata": {},
   "outputs": [
    {
     "data": {
      "image/png": "[encoded data removed]",
      "text/plain": [
       "Graphics object consisting of 6 graphics primitives"
      ]
     },
     "execution_count": 18,
     "metadata": {},
     "output_type": "execute_result"
    }
   ],
   "source": [
    "# Stąd mamy promień (4+2t, t)\n",
    "\n",
    "plot(Polyhedron(W)) + plot(line([[4, 0], [24, 10]]))"
   ]
  },
  {
   "cell_type": "code",
   "execution_count": 22,
   "id": "cc974527-4d38-4af0-96a1-9e874ab9df1b",
   "metadata": {},
   "outputs": [
    {
     "data": {
      "text/html": [
       "\\begin{equation*}\n",
       "\\renewcommand{\\arraystretch}{1.5} %notruncate\n",
       "\\begin{array}{|rcrcrcr|}\n",
       "\\hline\n",
       "x_{2} \\mspace{-6mu}&\\mspace{-6mu} = \\mspace{-6mu}&\\mspace{-6mu} 1 \\mspace{-6mu}&\\mspace{-6mu} + \\mspace{-6mu}&\\mspace{-6mu} x_{1} \\mspace{-6mu}&\\mspace{-6mu} - \\mspace{-6mu}&\\mspace{-6mu} x_{3}\\\\\n",
       "x_{4} \\mspace{-6mu}&\\mspace{-6mu} = \\mspace{-6mu}&\\mspace{-6mu} 3 \\mspace{-6mu}&\\mspace{-6mu} + \\mspace{-6mu}&\\mspace{-6mu} \\frac{1}{2} x_{1} \\mspace{-6mu}&\\mspace{-6mu} - \\mspace{-6mu}&\\mspace{-6mu} x_{3}\\\\\n",
       "\\hline\n",
       "z \\mspace{-6mu}&\\mspace{-6mu} = \\mspace{-6mu}&\\mspace{-6mu} 0 \\mspace{-6mu}&\\mspace{-6mu}  \\mspace{-6mu}&\\mspace{-6mu}  \\mspace{-6mu}&\\mspace{-6mu}  \\mspace{-6mu}&\\mspace{-6mu} \\\\\n",
       "\\hline\n",
       "\\end{array}\n",
       "\\end{equation*}"
      ],
      "text/plain": [
       "LP problem dictionary (use 'view(...)' or '%display typeset' for details)"
      ]
     },
     "execution_count": 22,
     "metadata": {},
     "output_type": "execute_result"
    }
   ],
   "source": [
    "P.dictionary(2, 4)"
   ]
  },
  {
   "cell_type": "code",
   "execution_count": 23,
   "id": "4ecc0070-8752-4a72-b705-991d877fc244",
   "metadata": {},
   "outputs": [
    {
     "data": {
      "image/png": "[encoded data removed]",
      "text/plain": [
       "Graphics object consisting of 7 graphics primitives"
      ]
     },
     "execution_count": 23,
     "metadata": {},
     "output_type": "execute_result"
    }
   ],
   "source": [
    "# Stąd mamy promień (t, 1 + t)\n",
    "\n",
    "plot(Polyhedron(W)) + plot(line([[4, 0], [24, 10]])) + plot(line([[0, 1], [10, 11]]))"
   ]
  },
  {
   "cell_type": "code",
   "execution_count": 25,
   "id": "0a104b4f-cf60-459f-9b7a-519e09c8e682",
   "metadata": {},
   "outputs": [
    {
     "data": {
      "image/png": "[encoded data removed]",
      "text/plain": [
       "Graphics object consisting of 8 graphics primitives"
      ]
     },
     "execution_count": 25,
     "metadata": {},
     "output_type": "execute_result"
    }
   ],
   "source": [
    "plot(P, xmax=24, ymax=11)"
   ]
  },
  {
   "cell_type": "code",
   "execution_count": null,
   "id": "69fec104-e6bd-4f3c-b267-88b810ef3887",
   "metadata": {},
   "outputs": [],
   "source": []
  }
 ],
 "metadata": {
  "kernelspec": {
   "display_name": "SageMath 9.6",
   "language": "sage",
   "name": "sagemath"
  },
  "language_info": {
   "codemirror_mode": {
    "name": "ipython",
    "version": 3
   },
   "file_extension": ".py",
   "mimetype": "text/x-python",
   "name": "python",
   "nbconvert_exporter": "python",
   "pygments_lexer": "ipython3",
   "version": "3.9.13"
  }
 },
 "nbformat": 4,
 "nbformat_minor": 5
}
