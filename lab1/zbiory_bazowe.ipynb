{
 "cells": [
  {
   "cell_type": "markdown",
   "metadata": {},
   "source": [
    "# Obliczenia dla przykładu z wykładu\n",
    "\n",
    "Chodzi o wyznaczenie rozwiązania bazowego dla \n",
    "zbioru bazowego $\\mathcal{B} = \\{ 1, 3 \\}$ i\n",
    "układu równań\n",
    "$\\left\\{\\begin{array}{ccccccccccl}\n",
    "x_{0}&+&5 x_{1}&+&3 x_{2}&+&4 x_{3}&+&6 x_{4}&=&14\\\\\n",
    "&&x_{1}&+&3 x_{2}&+&5 x_{3}&+&6 x_{4}&=&7\\\\\n",
    "\\end{array}\\right.$.\n"
   ]
  },
  {
   "cell_type": "code",
   "execution_count": 1,
   "metadata": {},
   "outputs": [
    {
     "name": "stdout",
     "output_type": "stream",
     "text": [
      "\n",
      "This module, meant for **educational purposes only**, supports learning of basics of linear algebra.\n",
      "\n",
      "It was created to supplement a \"Linear algebra and geometry I\" course taught during winter semester 2020\n",
      "at the University of Warsaw Mathematics Department.\n",
      "\n",
      "To update, run:\n",
      "\n",
      "!wget -N https://raw.githubusercontent.com/anagorko/linalg/main/linalg.py\n",
      "\n",
      "AUTHORS:\n",
      "    Andrzej Nagórko, Jarosław Wiśniewski\n",
      "\n",
      "VERSION:\n",
      "    7/9/2021\n",
      "\n"
     ]
    },
    {
     "data": {
      "text/html": [
       "<style>.container { width:99% !important; }</style>"
      ],
      "text/plain": [
       "<IPython.core.display.HTML object>"
      ]
     },
     "metadata": {},
     "output_type": "display_data"
    }
   ],
   "source": [
    "from linalg import IMatrix"
   ]
  },
  {
   "cell_type": "code",
   "execution_count": 2,
   "metadata": {},
   "outputs": [
    {
     "data": {
      "text/html": [
       "<html><script type=\"math/tex; mode=display\">\\newcommand{\\Bold}[1]{\\mathbf{#1}}\\left\\{\\begin{array}{ccccccccccl}\n",
       "x_{0}&+&5 x_{1}&+&3 x_{2}&+&4 x_{3}&+&6 x_{4}&=&14\\\\\n",
       "&&x_{1}&+&3 x_{2}&+&5 x_{3}&+&6 x_{4}&=&7\\\\\n",
       "\\end{array}\\right.</script></html>"
      ],
      "text/plain": [
       "IMatrix([(1, 5, 3, 4, 6, 14), (0, 1, 3, 5, 6, 7)], separate=1).as_equations()"
      ]
     },
     "metadata": {},
     "output_type": "display_data"
    }
   ],
   "source": [
    "A = IMatrix(matrix(QQ, [[1,5,3,4,6, 14],[0,1,3,5,6,7]]), names=['x0', 'x1', 'x2', 'x3', 'x4'], separate=1)\n",
    "show(A.as_equations())"
   ]
  },
  {
   "cell_type": "code",
   "execution_count": 3,
   "metadata": {},
   "outputs": [
    {
     "data": {
      "text/html": [
       "<html><script type=\"math/tex; mode=display\">\\newcommand{\\Bold}[1]{\\mathbf{#1}}\\left[\\begin{array}{rrrrr|r}\n",
       "1 & 5 & 3 & 4 & 6 & 14\\\\\n",
       "0 & 1 & 3 & 5 & 6 & 7\\\\\n",
       "\\end{array}\\right]</script></html>"
      ],
      "text/plain": [
       "IMatrix([(1, 5, 3, 4, 6, 14), (0, 1, 3, 5, 6, 7)], separate=1, names=['x0', 'x1', 'x2', 'x3', 'x4'])"
      ]
     },
     "metadata": {},
     "output_type": "display_data"
    }
   ],
   "source": [
    "show(A)"
   ]
  },
  {
   "cell_type": "code",
   "execution_count": 4,
   "metadata": {},
   "outputs": [
    {
     "data": {
      "text/html": [
       "\\[\\left[\\begin{array}{rrrrr|r}\n",
       "1 & 5 & 3 & 4 & 6 & 14\\\\\n",
       "0 & 1 & 3 & 5 & 6 & 7\\\\\n",
       "\\end{array}\\right]\\begin{array}{c}\n",
       "+(-5) \\cdot w_2\\\\\\ \n",
       "\\end{array}\\rightarrow\\left[\\begin{array}{rrrrr|r}\n",
       "1 & 0 & -12 & -21 & -24 & -21\\\\\n",
       "0 & 1 & 3 & 5 & 6 & 7\\\\\n",
       "\\end{array}\\right]\\]"
      ],
      "text/plain": [
       "\\[\\left[\\begin{array}{rrrrr|r}\n",
       "1 & 5 & 3 & 4 & 6 & 14\\\\\n",
       "0 & 1 & 3 & 5 & 6 & 7\\\\\n",
       "\\end{array}\\right]\\begin{array}{c}\n",
       "+(-5) \\cdot w_2\\\\\\ \n",
       "\\end{array}\\rightarrow\\left[\\begin{array}{rrrrr|r}\n",
       "1 & 0 & -12 & -21 & -24 & -21\\\\\n",
       "0 & 1 & 3 & 5 & 6 & 7\\\\\n",
       "\\end{array}\\right]\\]"
      ]
     },
     "execution_count": 4,
     "metadata": {},
     "output_type": "execute_result"
    }
   ],
   "source": [
    "A.add_multiple_of_row(0, 1, -5)"
   ]
  },
  {
   "cell_type": "code",
   "execution_count": 5,
   "metadata": {},
   "outputs": [
    {
     "data": {
      "text/html": [
       "\\[\\left[\\begin{array}{rrrrr|r}\n",
       "1 & 0 & -12 & -21 & -24 & -21\\\\\n",
       "0 & 1 & 3 & 5 & 6 & 7\\\\\n",
       "\\end{array}\\right]\\begin{array}{c}\n",
       "\\leftarrow r_2\\\\\\leftarrow r_1\n",
       "\\end{array}\\rightarrow\\left[\\begin{array}{rrrrr|r}\n",
       "0 & 1 & 3 & 5 & 6 & 7\\\\\n",
       "1 & 0 & -12 & -21 & -24 & -21\\\\\n",
       "\\end{array}\\right]\\]"
      ],
      "text/plain": [
       "\\[\\left[\\begin{array}{rrrrr|r}\n",
       "1 & 0 & -12 & -21 & -24 & -21\\\\\n",
       "0 & 1 & 3 & 5 & 6 & 7\\\\\n",
       "\\end{array}\\right]\\begin{array}{c}\n",
       "\\leftarrow r_2\\\\\\leftarrow r_1\n",
       "\\end{array}\\rightarrow\\left[\\begin{array}{rrrrr|r}\n",
       "0 & 1 & 3 & 5 & 6 & 7\\\\\n",
       "1 & 0 & -12 & -21 & -24 & -21\\\\\n",
       "\\end{array}\\right]\\]"
      ]
     },
     "execution_count": 5,
     "metadata": {},
     "output_type": "execute_result"
    }
   ],
   "source": [
    "A.swap_rows(0,1)"
   ]
  },
  {
   "cell_type": "code",
   "execution_count": 6,
   "metadata": {},
   "outputs": [
    {
     "data": {
      "text/html": [
       "\\[\\left[\\begin{array}{rrrrr|r}\n",
       "0 & 1 & 3 & 5 & 6 & 7\\\\\n",
       "1 & 0 & -12 & -21 & -24 & -21\\\\\n",
       "\\end{array}\\right]\\begin{array}{c}\n",
       "\\ \\\\\\cdot (-\\frac{1}{21})\n",
       "\\end{array}\\rightarrow\\left[\\begin{array}{rrrrr|r}\n",
       "0 & 1 & 3 & 5 & 6 & 7\\\\\n",
       "-\\frac{1}{21} & 0 & \\frac{4}{7} & 1 & \\frac{8}{7} & 1\\\\\n",
       "\\end{array}\\right]\\]"
      ],
      "text/plain": [
       "\\[\\left[\\begin{array}{rrrrr|r}\n",
       "0 & 1 & 3 & 5 & 6 & 7\\\\\n",
       "1 & 0 & -12 & -21 & -24 & -21\\\\\n",
       "\\end{array}\\right]\\begin{array}{c}\n",
       "\\ \\\\\\cdot (-\\frac{1}{21})\n",
       "\\end{array}\\rightarrow\\left[\\begin{array}{rrrrr|r}\n",
       "0 & 1 & 3 & 5 & 6 & 7\\\\\n",
       "-\\frac{1}{21} & 0 & \\frac{4}{7} & 1 & \\frac{8}{7} & 1\\\\\n",
       "\\end{array}\\right]\\]"
      ]
     },
     "execution_count": 6,
     "metadata": {},
     "output_type": "execute_result"
    }
   ],
   "source": [
    "A.rescale_row(1, -1/21)"
   ]
  },
  {
   "cell_type": "code",
   "execution_count": 7,
   "metadata": {},
   "outputs": [
    {
     "data": {
      "text/html": [
       "\\[\\left[\\begin{array}{rrrrr|r}\n",
       "0 & 1 & 3 & 5 & 6 & 7\\\\\n",
       "-\\frac{1}{21} & 0 & \\frac{4}{7} & 1 & \\frac{8}{7} & 1\\\\\n",
       "\\end{array}\\right]\\begin{array}{c}\n",
       "+(-5) \\cdot w_2\\\\\\ \n",
       "\\end{array}\\rightarrow\\left[\\begin{array}{rrrrr|r}\n",
       "\\frac{5}{21} & 1 & \\frac{1}{7} & 0 & \\frac{2}{7} & 2\\\\\n",
       "-\\frac{1}{21} & 0 & \\frac{4}{7} & 1 & \\frac{8}{7} & 1\\\\\n",
       "\\end{array}\\right]\\]"
      ],
      "text/plain": [
       "\\[\\left[\\begin{array}{rrrrr|r}\n",
       "0 & 1 & 3 & 5 & 6 & 7\\\\\n",
       "-\\frac{1}{21} & 0 & \\frac{4}{7} & 1 & \\frac{8}{7} & 1\\\\\n",
       "\\end{array}\\right]\\begin{array}{c}\n",
       "+(-5) \\cdot w_2\\\\\\ \n",
       "\\end{array}\\rightarrow\\left[\\begin{array}{rrrrr|r}\n",
       "\\frac{5}{21} & 1 & \\frac{1}{7} & 0 & \\frac{2}{7} & 2\\\\\n",
       "-\\frac{1}{21} & 0 & \\frac{4}{7} & 1 & \\frac{8}{7} & 1\\\\\n",
       "\\end{array}\\right]\\]"
      ]
     },
     "execution_count": 7,
     "metadata": {},
     "output_type": "execute_result"
    }
   ],
   "source": [
    "A.add_multiple_of_row(0, 1, -5)"
   ]
  },
  {
   "cell_type": "code",
   "execution_count": 8,
   "metadata": {},
   "outputs": [
    {
     "data": {
      "text/html": [
       "<html><script type=\"math/tex; mode=display\">\\newcommand{\\Bold}[1]{\\mathbf{#1}}\\left\\{\\begin{array}{ccccccccccl}\n",
       "\\frac{5}{21} x_{0}&+&x_{1}&+&\\frac{1}{7} x_{2}&&&+&\\frac{2}{7} x_{4}&=&2\\\\\n",
       "-\\frac{1}{21} x_{0}&&&+&\\frac{4}{7} x_{2}&+&x_{3}&+&\\frac{8}{7} x_{4}&=&1\\\\\n",
       "\\end{array}\\right.</script></html>"
      ],
      "text/plain": [
       "IMatrix([(5/21, 1, 1/7, 0, 2/7, 2), (-1/21, 0, 4/7, 1, 8/7, 1)], separate=1).as_equations()"
      ]
     },
     "metadata": {},
     "output_type": "display_data"
    }
   ],
   "source": [
    "show(A.as_equations())"
   ]
  },
  {
   "cell_type": "markdown",
   "metadata": {},
   "source": [
    "Rozwiązanie bazowe dla B = {1, 3} ma x_1 = 2 oraz x_3 = 1\n",
    "\n",
    "Cały wektor x = (0, 2, 0, 1, 0) -- rozwiązanie bazowe (i dopuszczalne) dla B = {1, 3}"
   ]
  },
  {
   "cell_type": "code",
   "execution_count": 9,
   "metadata": {},
   "outputs": [
    {
     "data": {
      "text/html": [
       "<html><script type=\"math/tex; mode=display\">\\newcommand{\\Bold}[1]{\\mathbf{#1}}\\left(\\begin{array}{rrrrrr}\n",
       "1 & 5 & 3 & 4 & 6 & 14 \\\\\n",
       "0 & 1 & 3 & 5 & 6 & 7\n",
       "\\end{array}\\right)</script></html>"
      ],
      "text/plain": [
       "[ 1  5  3  4  6 14]\n",
       "[ 0  1  3  5  6  7]"
      ]
     },
     "metadata": {},
     "output_type": "display_data"
    }
   ],
   "source": [
    "Ap = matrix(QQ, [[1,5,3,4,6, 14],[0,1,3,5,6,7]])\n",
    "show(Ap)"
   ]
  },
  {
   "cell_type": "code",
   "execution_count": 10,
   "metadata": {},
   "outputs": [
    {
     "data": {
      "text/html": [
       "<html><script type=\"math/tex; mode=display\">\\newcommand{\\Bold}[1]{\\mathbf{#1}}\\left(\\begin{array}{rr}\n",
       "5 & 4 \\\\\n",
       "1 & 5\n",
       "\\end{array}\\right)</script></html>"
      ],
      "text/plain": [
       "[5 4]\n",
       "[1 5]"
      ]
     },
     "metadata": {},
     "output_type": "display_data"
    }
   ],
   "source": [
    "AB = Ap.matrix_from_columns((1, 3))\n",
    "show(AB)"
   ]
  },
  {
   "cell_type": "code",
   "execution_count": 11,
   "metadata": {},
   "outputs": [
    {
     "data": {
      "text/html": [
       "<html><script type=\"math/tex; mode=display\">\\newcommand{\\Bold}[1]{\\mathbf{#1}}\\left(\\begin{array}{rr}\n",
       "\\frac{5}{21} & -\\frac{4}{21} \\\\\n",
       "-\\frac{1}{21} & \\frac{5}{21}\n",
       "\\end{array}\\right)</script></html>"
      ],
      "text/plain": [
       "[ 5/21 -4/21]\n",
       "[-1/21  5/21]"
      ]
     },
     "metadata": {},
     "output_type": "display_data"
    }
   ],
   "source": [
    "show(~AB)"
   ]
  },
  {
   "cell_type": "code",
   "execution_count": 12,
   "metadata": {},
   "outputs": [
    {
     "data": {
      "text/html": [
       "<html><script type=\"math/tex; mode=display\">\\newcommand{\\Bold}[1]{\\mathbf{#1}}\\left(\\begin{array}{rrrrrr}\n",
       "\\frac{5}{21} & 1 & \\frac{1}{7} & 0 & \\frac{2}{7} & 2 \\\\\n",
       "-\\frac{1}{21} & 0 & \\frac{4}{7} & 1 & \\frac{8}{7} & 1\n",
       "\\end{array}\\right)</script></html>"
      ],
      "text/plain": [
       "[ 5/21     1   1/7     0   2/7     2]\n",
       "[-1/21     0   4/7     1   8/7     1]"
      ]
     },
     "metadata": {},
     "output_type": "display_data"
    }
   ],
   "source": [
    "show((~AB) * Ap)"
   ]
  },
  {
   "cell_type": "code",
   "execution_count": null,
   "metadata": {},
   "outputs": [],
   "source": []
  }
 ],
 "metadata": {
  "kernelspec": {
   "display_name": "SageMath 9.1",
   "language": "sage",
   "name": "sagemath"
  },
  "language_info": {
   "codemirror_mode": {
    "name": "ipython",
    "version": 3
   },
   "file_extension": ".py",
   "mimetype": "text/x-python",
   "name": "python",
   "nbconvert_exporter": "python",
   "pygments_lexer": "ipython3",
   "version": "3.7.3"
  }
 },
 "nbformat": 4,
 "nbformat_minor": 4
}
