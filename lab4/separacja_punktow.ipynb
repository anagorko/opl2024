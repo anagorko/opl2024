{
 "cells": [
  {
   "cell_type": "markdown",
   "metadata": {
    "collapsed": false
   },
   "source": [
    "# Separacja punktów na płaszczyźnie\n",
    "\n",
    "Dany jest zbiór punktów czerwonych i zbiór punktów niebieskich na płaszczyźnie. Należy znaleźć prostą rozdzielającą te dwa zbiory lub wykazać, że ona nie istnieje. Należy to zrobić rozwiązując odpowiedni problem liniowy. Rozwiązanie powinno działać dla dowolnych wartości wpisanych w listach C i N poniżej."
   ]
  },
  {
   "cell_type": "code",
   "execution_count": 1,
   "metadata": {
    "collapsed": false
   },
   "outputs": [
    {
     "data": {
      "text/html": [
       "<html><script type=\"math/tex; mode=display\">\\newcommand{\\Bold}[1]{\\mathbf{#1}}\\verb|Dane|\\phantom{\\verb!x!}\\verb|punkty|</script></html>"
      ],
      "text/latex": [
       "\\begin{math}\n",
       "\\newcommand{\\Bold}[1]{\\mathbf{#1}}\\verb|Dane|\\phantom{\\verb!x!}\\verb|punkty|\n",
       "\\end{math}"
      ],
      "text/plain": [
       "'Dane punkty'"
      ]
     },
     "execution_count": 1,
     "metadata": {
     },
     "output_type": "execute_result"
    },
    {
     "data": {
      "image/png": "[encoded data removed]",
      "text/plain": [
       "Graphics object consisting of 2 graphics primitives"
      ]
     },
     "execution_count": 1,
     "metadata": {
     },
     "output_type": "execute_result"
    }
   ],
   "source": [
    "# Dane wejściowe\n",
    "\n",
    "C = [ (1,2), (3,3), (2,4) ] # Zbiór punktów czerwonych\n",
    "N = [ (2,2.2), (3,2) ] # Zbiór punktów niebieskich\n",
    "\n",
    "# Prezentacja danych wejściowych\n",
    "\n",
    "show('Dane punkty')\n",
    "show(list_plot(C, color=\"red\") + list_plot(N, color=\"blue\"))\n"
   ]
  },
  {
   "cell_type": "code",
   "execution_count": 0,
   "metadata": {
    "collapsed": false
   },
   "outputs": [
   ],
   "source": [
    "# Zadanie - separacja punktów na płaszczyźnie. Naleźy znaleźć równanie prostej rozcinającej płaszczyznę na dwie części tak,\n",
    "# że wszystkie czerwone punkty są po jednej strone, a wszystkie niebieskie są po drugiej stronie.\n",
    "\n",
    "##################################\n",
    "# Miejsce na rozwiązanie zadania #\n",
    "##################################\n",
    "\n",
    "# Krok 1. Utworzenie problemu liniowego\n",
    "\n",
    "# Krok 2. Rozwiązanie problemu liniowego\n",
    "\n",
    "# Krok 3. Prezentacja wyniku (należy narysować znalezioną prostą)\n"
   ]
  },
  {
   "cell_type": "code",
   "execution_count": 4,
   "metadata": {
    "collapsed": false
   },
   "outputs": [
    {
     "data": {
      "image/png": "[encoded data removed]",
      "text/plain": [
       "Graphics object consisting of 3 graphics primitives"
      ]
     },
     "execution_count": 4,
     "metadata": {
     },
     "output_type": "execute_result"
    }
   ],
   "source": [
    "# Uwaga: dla danych C = [ (1,2), (3,3), (2,4) ] i N = [ (2,2.2), (3,2) ] rozwiązaniem może być prosta y = 0.5 x + 1.35, która wygląda tak:\n",
    "\n",
    "import numpy\n",
    "\n",
    "x = numpy.linspace(min(C, key=lambda x: x[0])[0], max(C, key=lambda x: x[1])[1], 1000)\n",
    "y = 0.5 * x + 1.35\n",
    "list_plot(list(zip(x, y))) + list_plot(C, color=\"red\") + list_plot(N, color=\"blue\")\n"
   ]
  },
  {
   "cell_type": "code",
   "execution_count": 0,
   "metadata": {
    "collapsed": false
   },
   "outputs": [
   ],
   "source": [
   ]
  }
 ],
 "metadata": {
  "kernelspec": {
   "display_name": "SageMath 9.2",
   "language": "sagemath",
   "metadata": {
    "cocalc": {
     "description": "Open-source mathematical software system",
     "priority": 1,
     "url": "https://www.sagemath.org/"
    }
   },
   "name": "sage-9.2",
   "resource_dir": "/ext/jupyter/kernels/sage-9.2"
  },
  "language_info": {
   "codemirror_mode": {
    "name": "ipython",
    "version": 2
   },
   "file_extension": ".py",
   "mimetype": "text/x-python",
   "name": "python",
   "nbconvert_exporter": "python",
   "pygments_lexer": "ipython2",
   "version": "2.7.15"
  }
 },
 "nbformat": 4,
 "nbformat_minor": 4
}